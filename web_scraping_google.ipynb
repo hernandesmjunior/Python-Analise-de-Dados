{
 "cells": [
  {
   "cell_type": "code",
   "execution_count": 34,
   "metadata": {},
   "outputs": [],
   "source": [
    "from bs4 import BeautifulSoup\n",
    "from selenium import webdriver\n",
    "from webdriver_manager.chrome import ChromeDriverManager"
   ]
  },
  {
   "cell_type": "code",
   "execution_count": 35,
   "metadata": {},
   "outputs": [],
   "source": [
    "driver = webdriver.Chrome(executable_path=r\"C:\\chromedriver_win32\\chromedriver.exe\")\n"
   ]
  },
  {
   "cell_type": "code",
   "execution_count": 36,
   "metadata": {},
   "outputs": [],
   "source": [
    "\n",
    "query = 'jair bolsonaro' # palavra a pesquisar\n",
    "\n",
    "\n",
    "links = [] # lista para guardar os links\n",
    "\n",
    "titulos = [] # lista para guardar os títulos\n",
    "\n",
    "n_pages = 40 \n",
    "\n",
    "# estrutura de repetição\n",
    "\n",
    "for page in range(1, n_pages):\n",
    "    \n",
    "    url = \"http://www.google.com/search?q=\" + query + \"&start=\" + (str((page - 1) * 10) + \"&tbs=qdr:d\")\n",
    "    \n",
    "    driver.get(url)\n",
    "    \n",
    "    soup = BeautifulSoup(driver.page_source, 'html.parser')\n",
    "\n",
    "    search = soup.find_all('div', class_=\"yuRUbf\")\n",
    "    \n",
    "    for h in search:\n",
    "        \n",
    "        links.append(h.a.get('href'))\n"
   ]
  },
  {
   "cell_type": "code",
   "execution_count": 37,
   "metadata": {},
   "outputs": [
    {
     "data": {
      "text/plain": [
       "['https://www.cnnbrasil.com.br/politica/2021/06/08/bolsonaro-da-a-wassef-poderes-para-atuar-em-acoes-judiciais',\n",
       " 'https://oglobo.globo.com/brasil/as-vesperas-de-indicar-nome-ao-stf-bolsonaro-faz-visita-fora-da-agenda-fux-25052195',\n",
       " 'https://veja.abril.com.br/blog/radar/o-que-fux-pediu-a-bolsonaro-na-conversa-no-stf/',\n",
       " 'https://noticias.r7.com/brasil/fux-se-reune-com-bolsonaro-e-pede-que-adie-indicacao-de-novo-ministro-08062021',\n",
       " 'https://brasil.elpais.com/noticias/jair-messias-bolsonaro/',\n",
       " 'https://blogs.correiobraziliense.com.br/dribledecorpo/entrevista-marcio-suttile-ele-explica-por-que-jair-bolsonaro-nao-pode-intervir-na-cbf/',\n",
       " 'https://www.bbc.com/portuguese/brasil-57366678']"
      ]
     },
     "execution_count": 37,
     "metadata": {},
     "output_type": "execute_result"
    }
   ],
   "source": [
    "links"
   ]
  },
  {
   "cell_type": "code",
   "execution_count": 29,
   "metadata": {},
   "outputs": [
    {
     "data": {
      "text/plain": [
       "[]"
      ]
     },
     "execution_count": 29,
     "metadata": {},
     "output_type": "execute_result"
    }
   ],
   "source": [
    "titulos"
   ]
  },
  {
   "cell_type": "code",
   "execution_count": null,
   "metadata": {},
   "outputs": [],
   "source": []
  }
 ],
 "metadata": {
  "kernelspec": {
   "display_name": "Python 3",
   "language": "python",
   "name": "python3"
  },
  "language_info": {
   "codemirror_mode": {
    "name": "ipython",
    "version": 3
   },
   "file_extension": ".py",
   "mimetype": "text/x-python",
   "name": "python",
   "nbconvert_exporter": "python",
   "pygments_lexer": "ipython3",
   "version": "3.8.5"
  }
 },
 "nbformat": 4,
 "nbformat_minor": 4
}
